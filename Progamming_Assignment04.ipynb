{
  "nbformat": 4,
  "nbformat_minor": 0,
  "metadata": {
    "colab": {
      "provenance": []
    },
    "kernelspec": {
      "name": "python3",
      "display_name": "Python 3"
    },
    "language_info": {
      "name": "python"
    }
  },
  "cells": [
    {
      "cell_type": "markdown",
      "source": [
        "Write a Python Program to Find the Factorial of a Number?"
      ],
      "metadata": {
        "id": "X7qO1ZL3oPpk"
      }
    },
    {
      "cell_type": "code",
      "execution_count": 7,
      "metadata": {
        "colab": {
          "base_uri": "https://localhost:8080/"
        },
        "id": "yyWxyaCpoOW_",
        "outputId": "a7acce3d-1673-419e-f517-7634add2ff41"
      },
      "outputs": [
        {
          "output_type": "stream",
          "name": "stdout",
          "text": [
            "Enter a number :  99\n",
            "933262154439441526816992388562667004907159682643816214685929638952175999932299156089414639761565182862536979208272237582511852109168640000000000000000000000\n"
          ]
        }
      ],
      "source": [
        "a = int(input('Enter a number :  '))\n",
        "factorial = 1\n",
        "for i in range(1,a+1):\n",
        "  factorial = factorial*i\n",
        "print(factorial)"
      ]
    },
    {
      "cell_type": "markdown",
      "source": [
        "Write a Python Program to Display the multiplication Table?"
      ],
      "metadata": {
        "id": "aJPcCaj-oT4f"
      }
    },
    {
      "cell_type": "code",
      "source": [
        "a = int(input('Enter a number :  '))\n",
        "i = 1\n",
        "while i<11:\n",
        "  print(f'{a} * {i} = {a*i}')\n",
        "  i = i+1"
      ],
      "metadata": {
        "colab": {
          "base_uri": "https://localhost:8080/"
        },
        "id": "7YvWrnb8oU_3",
        "outputId": "3b1420c1-764c-465a-b115-1c5636ae0b7d"
      },
      "execution_count": 10,
      "outputs": [
        {
          "output_type": "stream",
          "name": "stdout",
          "text": [
            "Enter a number :  12\n",
            "12 * 1 = 12\n",
            "12 * 2 = 24\n",
            "12 * 3 = 36\n",
            "12 * 4 = 48\n",
            "12 * 5 = 60\n",
            "12 * 6 = 72\n",
            "12 * 7 = 84\n",
            "12 * 8 = 96\n",
            "12 * 9 = 108\n",
            "12 * 10 = 120\n"
          ]
        }
      ]
    },
    {
      "cell_type": "markdown",
      "source": [
        "Write a Python Program to Print the Fibonacci sequence?"
      ],
      "metadata": {
        "id": "UXM0fPJNoVtd"
      }
    },
    {
      "cell_type": "code",
      "source": [
        "\n",
        "nterms = int(input(\"How many terms? \"))\n",
        "\n",
        "\n",
        "n1, n2 = 0, 1\n",
        "count = 0\n",
        "\n",
        "if nterms <= 0:\n",
        "   print(\"Please enter a positive integer\")\n",
        "elif nterms == 1:\n",
        "   print(\"Fibonacci sequence upto\",nterms,\":\")\n",
        "   print(n1)\n",
        "else:\n",
        "   print(\"Fibonacci sequence:\")\n",
        "   while count < nterms:\n",
        "       print(n1)\n",
        "       nth = n1 + n2\n",
        "       n1 = n2\n",
        "       n2 = nth\n",
        "       count += 1"
      ],
      "metadata": {
        "colab": {
          "base_uri": "https://localhost:8080/"
        },
        "id": "PGdUgGuPoYZc",
        "outputId": "8060aead-64a3-4c67-a93c-23be7320e6b6"
      },
      "execution_count": 56,
      "outputs": [
        {
          "output_type": "stream",
          "name": "stdout",
          "text": [
            "How many terms? 5\n",
            "Fibonacci sequence:\n",
            "0\n",
            "1\n",
            "1\n",
            "2\n",
            "3\n"
          ]
        }
      ]
    },
    {
      "cell_type": "markdown",
      "source": [
        "Write a Python Program to Check Armstrong Number?"
      ],
      "metadata": {
        "id": "L_3uojMIoY3p"
      }
    },
    {
      "cell_type": "code",
      "source": [
        "a = (input('Enter the number to check: '))\n",
        "b = len(a)\n",
        "c = 0\n",
        "for i in (a):\n",
        "  d = int(i)\n",
        "  c = d**b + c \n",
        "if c == int(a):\n",
        "  print(f'{a} is a Armstrong number')\n",
        "else: \n",
        "  print(f'{a} is not Armstrong number')"
      ],
      "metadata": {
        "colab": {
          "base_uri": "https://localhost:8080/"
        },
        "id": "74wFGu_nobGi",
        "outputId": "fcee5ac0-3dcc-474b-aae9-fb74b36d86d5"
      },
      "execution_count": 27,
      "outputs": [
        {
          "output_type": "stream",
          "name": "stdout",
          "text": [
            "Enter the number to check: 2555\n",
            "2555 is not Armstrong number\n"
          ]
        }
      ]
    },
    {
      "cell_type": "markdown",
      "source": [
        "Write a Python Program to Find Armstrong Number in an Interval?"
      ],
      "metadata": {
        "id": "JqrBvia4obql"
      }
    },
    {
      "cell_type": "code",
      "source": [
        "lower = int(input('enter lower limit: '))\n",
        "upper = int(input('enter upper limit: '))\n",
        "for i in range(lower,upper+1):\n",
        "  b = len(str(i))\n",
        "  c = 0\n",
        "  for a in (str(i)):\n",
        "    d = int(a)\n",
        "    c = d**b + c \n",
        "  if c == i:\n",
        "    print(i)\n",
        "  "
      ],
      "metadata": {
        "colab": {
          "base_uri": "https://localhost:8080/"
        },
        "id": "erVwlPLcoeYF",
        "outputId": "fcf326d3-5692-46ca-965d-f10ccbaf99df"
      },
      "execution_count": 40,
      "outputs": [
        {
          "output_type": "stream",
          "name": "stdout",
          "text": [
            "enter lower limit: 400\n",
            "enter upper limit: 500\n",
            "407\n"
          ]
        }
      ]
    },
    {
      "cell_type": "markdown",
      "source": [
        "Write a Python Program to Find the Sum of Natural Numbers?"
      ],
      "metadata": {
        "id": "ifXgooY1oe1A"
      }
    },
    {
      "cell_type": "code",
      "source": [
        "a = int(input('enter the number untill which u need the sum : '))\n",
        "sum = 0\n",
        "for i in range(1,a+1):  #using for loop in order to avoid the while infinity loop with user input\n",
        "  sum = sum + i\n",
        "print(sum)"
      ],
      "metadata": {
        "colab": {
          "base_uri": "https://localhost:8080/"
        },
        "id": "2lyu36FTsfvI",
        "outputId": "acbc0e88-45c7-4eac-d468-a96b8c0ba84b"
      },
      "execution_count": 15,
      "outputs": [
        {
          "output_type": "stream",
          "name": "stdout",
          "text": [
            "enter the number untill which u need the sum : 16\n",
            "136\n"
          ]
        }
      ]
    },
    {
      "cell_type": "code",
      "source": [],
      "metadata": {
        "id": "OdQrv01YszU8"
      },
      "execution_count": null,
      "outputs": []
    }
  ]
}