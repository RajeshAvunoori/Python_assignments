{
  "nbformat": 4,
  "nbformat_minor": 0,
  "metadata": {
    "colab": {
      "provenance": []
    },
    "kernelspec": {
      "name": "python3",
      "display_name": "Python 3"
    },
    "language_info": {
      "name": "python"
    }
  },
  "cells": [
    {
      "cell_type": "markdown",
      "source": [
        "#What are escape characters, and how do you use them?"
      ],
      "metadata": {
        "id": "-uagMfNFQbKu"
      }
    },
    {
      "cell_type": "markdown",
      "source": [
        "###Ans: \\' , \\\\ , \\n , \\t  are some of the escape characters. An escape character is a backslash \\ followed by the character you want to insert, these are mainly used in formatting our uotput display"
      ],
      "metadata": {
        "id": "LYybaRHFQewo"
      }
    },
    {
      "cell_type": "markdown",
      "source": [
        "#What do the escape characters n and t stand for?"
      ],
      "metadata": {
        "id": "i1J4vtlfRoQU"
      }
    },
    {
      "cell_type": "markdown",
      "source": [
        "###Ans: The n stands for new line and t for the tab"
      ],
      "metadata": {
        "id": "7cXyaVK_RoE_"
      }
    },
    {
      "cell_type": "markdown",
      "source": [
        "#What is the way to include backslash characters in a string?"
      ],
      "metadata": {
        "id": "BB16rUR-R52L"
      }
    },
    {
      "cell_type": "markdown",
      "source": [
        "Ans: An escape character is a backslash \\\\ followed by the character you want to insert."
      ],
      "metadata": {
        "id": "TM10BUN8SPfR"
      }
    },
    {
      "cell_type": "markdown",
      "source": [
        "#The string &quot;Howl&#39;s Moving Castle&quot; is a correct value. Why isn&#39;t the single quote character in the word Howl&#39;s not escaped a problem?"
      ],
      "metadata": {
        "id": "moVNL8vUTuou"
      }
    },
    {
      "cell_type": "markdown",
      "source": [
        "###Ans: The single quote in Howl's is fine because you've used double quotes to mark the beginning and end of the string."
      ],
      "metadata": {
        "id": "2SG7W35KT-12"
      }
    },
    {
      "cell_type": "markdown",
      "source": [
        "#What are the values of the given expressions?\n",
        "&#39;Hello, world!&#39;[1]\n",
        "&#39;Hello, world!&#39;[0:5]\n",
        "&#39;Hello, world!&#39;[:5]\n",
        "&#39;Hello, world!&#39;[3:]"
      ],
      "metadata": {
        "id": "rCB3YpOOUG8B"
      }
    },
    {
      "cell_type": "markdown",
      "source": [],
      "metadata": {
        "id": "m7Nz5zzqUK-4"
      }
    },
    {
      "cell_type": "code",
      "execution_count": 4,
      "metadata": {
        "colab": {
          "base_uri": "https://localhost:8080/",
          "height": 35
        },
        "id": "-cDRgh62QC74",
        "outputId": "0a454d30-d311-4196-d21d-e282ca21b01d"
      },
      "outputs": [
        {
          "output_type": "execute_result",
          "data": {
            "text/plain": [
              "'e'"
            ],
            "application/vnd.google.colaboratory.intrinsic+json": {
              "type": "string"
            }
          },
          "metadata": {},
          "execution_count": 4
        }
      ],
      "source": [
        "'Hello, world!'[1]\n"
      ]
    },
    {
      "cell_type": "code",
      "source": [
        "'Hello, world!'[0:5] "
      ],
      "metadata": {
        "colab": {
          "base_uri": "https://localhost:8080/",
          "height": 35
        },
        "id": "h9MLCb2pUTBg",
        "outputId": "a7aaf0a6-c586-487f-a919-b0e72025c946"
      },
      "execution_count": 5,
      "outputs": [
        {
          "output_type": "execute_result",
          "data": {
            "text/plain": [
              "'Hello'"
            ],
            "application/vnd.google.colaboratory.intrinsic+json": {
              "type": "string"
            }
          },
          "metadata": {},
          "execution_count": 5
        }
      ]
    },
    {
      "cell_type": "code",
      "source": [
        "'Hello, world!'[:5]"
      ],
      "metadata": {
        "colab": {
          "base_uri": "https://localhost:8080/",
          "height": 35
        },
        "id": "F1dpwsqtUfHZ",
        "outputId": "1fa1e5b9-6c7d-4eb5-e318-96bb2e4084d0"
      },
      "execution_count": 6,
      "outputs": [
        {
          "output_type": "execute_result",
          "data": {
            "text/plain": [
              "'Hello'"
            ],
            "application/vnd.google.colaboratory.intrinsic+json": {
              "type": "string"
            }
          },
          "metadata": {},
          "execution_count": 6
        }
      ]
    },
    {
      "cell_type": "code",
      "source": [
        " 'Hello, world!'[3:]"
      ],
      "metadata": {
        "colab": {
          "base_uri": "https://localhost:8080/",
          "height": 35
        },
        "id": "O0AYZnBCUir2",
        "outputId": "4da83a37-8d52-4430-d005-4100dadb78d4"
      },
      "execution_count": 7,
      "outputs": [
        {
          "output_type": "execute_result",
          "data": {
            "text/plain": [
              "'lo, world!'"
            ],
            "application/vnd.google.colaboratory.intrinsic+json": {
              "type": "string"
            }
          },
          "metadata": {},
          "execution_count": 7
        }
      ]
    },
    {
      "cell_type": "markdown",
      "source": [
        "#What are the values of the following expressions?\n",
        "&#39;Hello&#39;.upper()\n",
        "&#39;Hello&#39;.upper().isupper()\n",
        "&#39;Hello&#39;.upper().lower()"
      ],
      "metadata": {
        "id": "wimdjJaDUrJn"
      }
    },
    {
      "cell_type": "code",
      "source": [
        "'Hello'.upper() "
      ],
      "metadata": {
        "colab": {
          "base_uri": "https://localhost:8080/",
          "height": 35
        },
        "id": "mHRFbcTfUmPf",
        "outputId": "3fd25173-9c27-4a48-fd64-c0d0792aa7f8"
      },
      "execution_count": 8,
      "outputs": [
        {
          "output_type": "execute_result",
          "data": {
            "text/plain": [
              "'HELLO'"
            ],
            "application/vnd.google.colaboratory.intrinsic+json": {
              "type": "string"
            }
          },
          "metadata": {},
          "execution_count": 8
        }
      ]
    },
    {
      "cell_type": "code",
      "source": [
        "'Hello'.upper().isupper()"
      ],
      "metadata": {
        "colab": {
          "base_uri": "https://localhost:8080/"
        },
        "id": "Ar9HR-CyUyvv",
        "outputId": "452a77cf-ab6c-44fc-e3dc-c6895d8f3e1f"
      },
      "execution_count": 9,
      "outputs": [
        {
          "output_type": "execute_result",
          "data": {
            "text/plain": [
              "True"
            ]
          },
          "metadata": {},
          "execution_count": 9
        }
      ]
    },
    {
      "cell_type": "code",
      "source": [
        "'Hello'.upper().lower()"
      ],
      "metadata": {
        "colab": {
          "base_uri": "https://localhost:8080/",
          "height": 35
        },
        "id": "AjkqguqIU1_6",
        "outputId": "f41e0486-2074-46a8-aadf-e0098dabd974"
      },
      "execution_count": 10,
      "outputs": [
        {
          "output_type": "execute_result",
          "data": {
            "text/plain": [
              "'hello'"
            ],
            "application/vnd.google.colaboratory.intrinsic+json": {
              "type": "string"
            }
          },
          "metadata": {},
          "execution_count": 10
        }
      ]
    },
    {
      "cell_type": "markdown",
      "source": [
        "#What are the values of the following expressions? &#39;Remember, remember, the fifth of July.&#39;.split() &#39;-&#39;.join(&#39;There can only one.&#39;.split())"
      ],
      "metadata": {
        "id": "lzvhAtrpUwrI"
      }
    },
    {
      "cell_type": "code",
      "source": [
        "'Remember, remember, the fifth of July.'.split()"
      ],
      "metadata": {
        "colab": {
          "base_uri": "https://localhost:8080/"
        },
        "id": "feCwgUCYVC9U",
        "outputId": "353d514d-fd8b-4627-fe92-828184c204d3"
      },
      "execution_count": 11,
      "outputs": [
        {
          "output_type": "execute_result",
          "data": {
            "text/plain": [
              "['Remember,', 'remember,', 'the', 'fifth', 'of', 'July.']"
            ]
          },
          "metadata": {},
          "execution_count": 11
        }
      ]
    },
    {
      "cell_type": "code",
      "source": [
        "'-'.join('There can only one.'.split())"
      ],
      "metadata": {
        "colab": {
          "base_uri": "https://localhost:8080/",
          "height": 35
        },
        "id": "8F5gIMW9VEoj",
        "outputId": "fe816323-54d6-498f-ecc5-976ff3fdb0f6"
      },
      "execution_count": 12,
      "outputs": [
        {
          "output_type": "execute_result",
          "data": {
            "text/plain": [
              "'There-can-only-one.'"
            ],
            "application/vnd.google.colaboratory.intrinsic+json": {
              "type": "string"
            }
          },
          "metadata": {},
          "execution_count": 12
        }
      ]
    },
    {
      "cell_type": "markdown",
      "source": [
        "#What are the methods for right-justifying, left-justifying, and centering a string?"
      ],
      "metadata": {
        "id": "XQwFF3GFXAUS"
      }
    },
    {
      "cell_type": "markdown",
      "source": [
        "###Ans: The rjust(), ljust(), and center() string methods, respectively"
      ],
      "metadata": {
        "id": "V85FJ45EXBmE"
      }
    },
    {
      "cell_type": "markdown",
      "source": [
        "#What is the best way to remove whitespace characters from the start or end?"
      ],
      "metadata": {
        "id": "nNKEg10gVqGe"
      }
    },
    {
      "cell_type": "markdown",
      "source": [
        "###Ans: we can use .strip() method to remove the white spaces "
      ],
      "metadata": {
        "id": "zItK2O6MV2YK"
      }
    }
  ]
}