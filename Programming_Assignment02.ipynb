{
  "nbformat": 4,
  "nbformat_minor": 0,
  "metadata": {
    "colab": {
      "provenance": []
    },
    "kernelspec": {
      "name": "python3",
      "display_name": "Python 3"
    },
    "language_info": {
      "name": "python"
    }
  },
  "cells": [
    {
      "cell_type": "markdown",
      "source": [
        "Write a Python program to convert kilometers to miles?"
      ],
      "metadata": {
        "id": "5Sd6seg5euEr"
      }
    },
    {
      "cell_type": "code",
      "execution_count": null,
      "metadata": {
        "colab": {
          "base_uri": "https://localhost:8080/"
        },
        "id": "7OrGgSUJeoC-",
        "outputId": "669b72b1-2393-426a-d6c6-c2eac311038c"
      },
      "outputs": [
        {
          "output_type": "stream",
          "name": "stdout",
          "text": [
            "please mention no of kilometers: 10\n",
            "Miles = 6.2139999999999995 mi\n"
          ]
        }
      ],
      "source": [
        "kilometers = int(input('please mention no of kilometers: '))\n",
        "print(f'Miles = {kilometers*0.6214} mi')  #considering 1km = 0.6214 miles)"
      ]
    },
    {
      "cell_type": "markdown",
      "source": [
        "Write a Python program to convert Celsius to Fahrenheit?"
      ],
      "metadata": {
        "id": "kZyn0fpafyP3"
      }
    },
    {
      "cell_type": "code",
      "source": [
        "Celsius = float(input(' temperature in celsius :  '))\n",
        "print(f'Fahrenheit = {((Celsius*9/5)+32)} F')"
      ],
      "metadata": {
        "colab": {
          "base_uri": "https://localhost:8080/"
        },
        "id": "0rnJ2c-DfX1T",
        "outputId": "a18b065f-d5e6-4c95-edcd-28bb39c419e9"
      },
      "execution_count": null,
      "outputs": [
        {
          "output_type": "stream",
          "name": "stdout",
          "text": [
            " temperature in celsius :  52\n",
            "Fahrenheit = 125.6 F\n"
          ]
        }
      ]
    },
    {
      "cell_type": "markdown",
      "source": [
        "Write a Python program to display calendar?"
      ],
      "metadata": {
        "id": "AdISP2EliFOP"
      }
    },
    {
      "cell_type": "code",
      "source": [
        "import calendar\n",
        "yy = int(input('year : '))\n",
        "mm = int(input('month: '))\n",
        "print(calendar.month(yy,mm))\n"
      ],
      "metadata": {
        "id": "KorkZAIugvRk",
        "colab": {
          "base_uri": "https://localhost:8080/"
        },
        "outputId": "824a07fb-9a91-448e-b2e7-5445df10c41a"
      },
      "execution_count": 19,
      "outputs": [
        {
          "output_type": "stream",
          "name": "stdout",
          "text": [
            "year : 2000\n",
            "month: 5\n",
            "      May 2000\n",
            "Mo Tu We Th Fr Sa Su\n",
            " 1  2  3  4  5  6  7\n",
            " 8  9 10 11 12 13 14\n",
            "15 16 17 18 19 20 21\n",
            "22 23 24 25 26 27 28\n",
            "29 30 31\n",
            "\n"
          ]
        }
      ]
    },
    {
      "cell_type": "markdown",
      "source": [
        "Write a Python program to solve quadratic equation?"
      ],
      "metadata": {
        "id": "30o5j9voiHvo"
      }
    },
    {
      "cell_type": "code",
      "source": [
        "a = int(input('coffcient f x^2 = '))\n",
        "b = int(input('coffcient f x = '))\n",
        "c = int(input('constant = '))\n",
        "x1 = (-b+(b**2-4*a*c)**0.5)/(2*a)\n",
        "x2 = (-b-(b**2-4*a*c)**0.5)/(2*a)\n",
        "print(f'{x1,x2} are the roots of the equation')"
      ],
      "metadata": {
        "colab": {
          "base_uri": "https://localhost:8080/"
        },
        "id": "CAvQqVBwiIV2",
        "outputId": "62b7d81d-fc13-4ef0-9858-4235503b4d9c"
      },
      "execution_count": null,
      "outputs": [
        {
          "output_type": "stream",
          "name": "stdout",
          "text": [
            "coffcient f x^2 = 3\n",
            "coffcient f x = 2\n",
            "constant = 6\n",
            "((-0.33333333333333326+1.3743685418725535j), (-0.3333333333333334-1.3743685418725535j)) are the roots of the equation\n"
          ]
        }
      ]
    },
    {
      "cell_type": "markdown",
      "source": [
        "Write a Python program to swap two variables without temp variable?"
      ],
      "metadata": {
        "id": "zt8xh5mkk_zR"
      }
    },
    {
      "cell_type": "code",
      "source": [
        "a = 2\n",
        "b = 4\n",
        "print(f'before swapping the numbers a = {a} and b = {b}')\n",
        "a,b = b,a\n",
        "print(f'after swapping the numbers a = {a} and b = {b}')"
      ],
      "metadata": {
        "id": "UAjWquA8kS_g",
        "colab": {
          "base_uri": "https://localhost:8080/"
        },
        "outputId": "b26d3eb7-f936-4509-9281-17c467a014d2"
      },
      "execution_count": 14,
      "outputs": [
        {
          "output_type": "stream",
          "name": "stdout",
          "text": [
            "before swapping the numbers a = 2 and b = 4\n",
            "after swapping the numbers a = 4 and b = 2\n"
          ]
        }
      ]
    },
    {
      "cell_type": "code",
      "source": [],
      "metadata": {
        "id": "5Mkn3wc4mQaN"
      },
      "execution_count": null,
      "outputs": []
    }
  ]
}