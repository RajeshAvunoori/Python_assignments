{
  "nbformat": 4,
  "nbformat_minor": 0,
  "metadata": {
    "colab": {
      "provenance": []
    },
    "kernelspec": {
      "name": "python3",
      "display_name": "Python 3"
    },
    "language_info": {
      "name": "python"
    }
  },
  "cells": [
    {
      "cell_type": "markdown",
      "source": [
        "Write a Python Program to Find LCM?"
      ],
      "metadata": {
        "id": "LoSN7BVAzZSO"
      }
    },
    {
      "cell_type": "code",
      "execution_count": 33,
      "metadata": {
        "colab": {
          "base_uri": "https://localhost:8080/"
        },
        "id": "xpjjJSBLzVoR",
        "outputId": "82101d03-dbe2-45e6-e5c1-c7f9f137f476"
      },
      "outputs": [
        {
          "name": "stdout",
          "output_type": "stream",
          "text": [
            "ENter a number: 5\n",
            "ENter a second number: 4\n"
          ]
        },
        {
          "output_type": "execute_result",
          "data": {
            "text/plain": [
              "20"
            ]
          },
          "metadata": {},
          "execution_count": 33
        }
      ],
      "source": [
        "num1 = int(input('ENter a number: '))\n",
        "num2 = int(input('ENter a second number: '))\n",
        "\n",
        "  if num1>num2:\n",
        "    high = num1\n",
        "  else:\n",
        "    high = num2\n",
        "  while(True):\n",
        "    if (high%num1) == 0 and (high%num2) == 0:\n",
        "      a = high\n",
        "      break\n",
        "    high = high + 1\n",
        "  return a\n",
        "\n",
        "(lcm(num1,num2))\n"
      ]
    },
    {
      "cell_type": "markdown",
      "source": [
        "Write a Python Program to Find HCF?5"
      ],
      "metadata": {
        "id": "XosjHhtTzclw"
      }
    },
    {
      "cell_type": "code",
      "source": [
        "num1 = int(input('ENter a number: '))\n",
        "num2 = int(input('ENter a second number: '))\n",
        "\n",
        "if num1>num2:\n",
        "  low = num2\n",
        "else:\n",
        "  low = num1\n",
        "while(True):\n",
        "  if num1%low == 0 and num2%low == 0:\n",
        "    hcf = low\n",
        "    break\n",
        "  low = low-1\n",
        "print(hcf)"
      ],
      "metadata": {
        "colab": {
          "base_uri": "https://localhost:8080/"
        },
        "id": "rMZ0ZFvlzfPy",
        "outputId": "e03b602b-ad42-44af-b342-e835385b7f4d"
      },
      "execution_count": 36,
      "outputs": [
        {
          "output_type": "stream",
          "name": "stdout",
          "text": [
            "ENter a number: 60\n",
            "ENter a second number: 75\n",
            "15\n"
          ]
        }
      ]
    },
    {
      "cell_type": "markdown",
      "source": [
        "Write a Python Program to Convert Decimal to Binary, Octal and Hexadecimal?7"
      ],
      "metadata": {
        "id": "SJlAeyNtzft9"
      }
    },
    {
      "cell_type": "code",
      "source": [
        "num = int(input('Enter a decimal number: '))\n",
        "print(bin(num))\n",
        "print(oct(num))\n",
        "print(hex(num))\n"
      ],
      "metadata": {
        "colab": {
          "base_uri": "https://localhost:8080/"
        },
        "id": "Ny7JWUJ6zlOb",
        "outputId": "e000a225-f9be-4463-bc83-9b555da7d681"
      },
      "execution_count": 47,
      "outputs": [
        {
          "output_type": "stream",
          "name": "stdout",
          "text": [
            "Enter a decimal number: 2\n",
            "0b10\n",
            "0o2\n",
            "0x2\n"
          ]
        }
      ]
    },
    {
      "cell_type": "markdown",
      "source": [
        "Write a Python Program To Find ASCII value of a character?"
      ],
      "metadata": {
        "id": "A4O-7QpIzl-n"
      }
    },
    {
      "cell_type": "code",
      "source": [
        "char = (input('Enter a character: '))\n",
        "print(ord(char))"
      ],
      "metadata": {
        "colab": {
          "base_uri": "https://localhost:8080/"
        },
        "id": "j5WivTsSzoXX",
        "outputId": "8fef0c3c-7133-4d38-876c-222982de7de8"
      },
      "execution_count": 54,
      "outputs": [
        {
          "output_type": "stream",
          "name": "stdout",
          "text": [
            "Enter a character: d\n",
            "100\n"
          ]
        }
      ]
    },
    {
      "cell_type": "markdown",
      "source": [
        "Write a Python Program to Make a Simple Calculator with 4 basic mathematical operations?:"
      ],
      "metadata": {
        "id": "-AGhFCz8zpG8"
      }
    },
    {
      "cell_type": "code",
      "source": [
        "def adding(a,b):\n",
        "  return a+b\n",
        "def subtract(a,b):\n",
        "  return a-b\n",
        "def multiply(a,b):\n",
        "  return a*b\n",
        "def division(a,b):\n",
        "  return a/b\n",
        "\n",
        "x = int(input(' enter the num : '))\n",
        "y= int(input('enter the num : '))\n",
        "calculator = input('select the operation add/sub/divide/multiply: ')\n",
        "if calculator == 'add':\n",
        "  print(adding(x,y))\n",
        "elif calculator == 'sub':\n",
        "  print(subtract(x,y))\n",
        "elif calculator == 'divide':\n",
        "  print(division(x,y))\n",
        "elif calculator == 'multiply':\n",
        "  print(multiply(x,y))\n",
        "\n"
      ],
      "metadata": {
        "colab": {
          "base_uri": "https://localhost:8080/"
        },
        "id": "WQqheLUPzwyg",
        "outputId": "12e2c501-50f1-4a02-b912-cc9adb3fc217"
      },
      "execution_count": 74,
      "outputs": [
        {
          "output_type": "stream",
          "name": "stdout",
          "text": [
            " enter the num : 1\n",
            "enter the num : 3\n",
            "select the operation add/sub/divide/multiply: divide\n",
            "0.3333333333333333\n"
          ]
        }
      ]
    },
    {
      "cell_type": "code",
      "source": [
        "1\n"
      ],
      "metadata": {
        "id": "OiXb5_4QjmlD"
      },
      "execution_count": null,
      "outputs": []
    }
  ]
}