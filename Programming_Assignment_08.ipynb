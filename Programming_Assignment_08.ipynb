{
 "cells": [
  {
   "cell_type": "markdown",
   "metadata": {
    "id": "O8wUfY_Aefbz"
   },
   "source": [
    "Write a Python Program to Add Two Matrices?"
   ]
  },
  {
   "cell_type": "code",
   "execution_count": 1,
   "metadata": {
    "colab": {
     "base_uri": "https://localhost:8080/"
    },
    "id": "whhWU1VLembt",
    "outputId": "3a09d15e-4a42-4217-f03d-f3b2cdd88012"
   },
   "outputs": [
    {
     "name": "stdout",
     "output_type": "stream",
     "text": [
      "[[0.87333536 0.38798478 0.76039922]\n",
      " [0.51901328 0.85885027 0.23587753]\n",
      " [0.67677195 0.49344581 0.75097023]] \n",
      " \n",
      " [[0.13152484 0.61379665 0.8295602 ]\n",
      " [0.84453113 0.52706215 0.06366278]\n",
      " [0.15948545 0.86843856 0.93749523]] \n",
      " \n",
      " [[1.00486021 1.00178144 1.58995942]\n",
      " [1.36354441 1.38591242 0.29954031]\n",
      " [0.8362574  1.36188437 1.68846546]]\n"
     ]
    }
   ],
   "source": [
    "import numpy as np\n",
    "a = np.random.rand(3,3)\n",
    "b = np.random.rand(3,3)\n",
    "print(a,'\\n','\\n',b,'\\n','\\n', a+b)"
   ]
  },
  {
   "cell_type": "markdown",
   "metadata": {
    "id": "3dSVWO43excP"
   },
   "source": [
    "Write a Python Program to Multiply Two Matrices?"
   ]
  },
  {
   "cell_type": "code",
   "execution_count": 2,
   "metadata": {
    "id": "aanoYVjwey-F"
   },
   "outputs": [
    {
     "name": "stdout",
     "output_type": "stream",
     "text": [
      "matrix 1 \n",
      " [[0.46791461 0.55161924 0.80137952]\n",
      " [0.45281151 0.85644444 0.4576188 ]\n",
      " [0.01205356 0.56096941 0.2750591 ]]\n",
      " \n",
      " matrix 2 \n",
      "[[0.94118203 0.81839662 0.86837132]\n",
      " [0.71334113 0.28691182 0.19438082]\n",
      " [0.15307607 0.53729163 0.33834911]] \n",
      " \n",
      " == \n",
      "[[0.95655755 0.97178033 0.78469388]\n",
      " [1.10716559 0.8621782  0.71451982]\n",
      " [0.45361212 0.3186003  0.21257467]]\n"
     ]
    }
   ],
   "source": [
    "a = np.random.rand(3,3)\n",
    "b = np.random.rand(3,3)\n",
    "print(f'matrix 1 \\n {a}\\n \\n matrix 2 \\n{b} \\n \\n == \\n{a@b}')"
   ]
  },
  {
   "cell_type": "markdown",
   "metadata": {
    "id": "w7iGZrMjezpv"
   },
   "source": [
    "Write a Python Program to Transpose a Matrix?"
   ]
  },
  {
   "cell_type": "code",
   "execution_count": 3,
   "metadata": {
    "id": "DZ8OsmL6e2X4"
   },
   "outputs": [
    {
     "name": "stdout",
     "output_type": "stream",
     "text": [
      "[[0.1731235  0.58160377 0.69946034]\n",
      " [0.11229236 0.50437174 0.05062779]\n",
      " [0.8820421  0.22137615 0.77266702]]\n",
      "Transformed matrix \n",
      " [[0.1731235  0.11229236 0.8820421 ]\n",
      " [0.58160377 0.50437174 0.22137615]\n",
      " [0.69946034 0.05062779 0.77266702]]\n"
     ]
    }
   ],
   "source": [
    "a = np.random.rand(3,3)\n",
    "print(a)\n",
    "Transpoe_mtarix = a.transpose()\n",
    "print(f'Transformed matrix \\n {Transpoe_mtarix}')"
   ]
  },
  {
   "cell_type": "markdown",
   "metadata": {
    "id": "jjPLHHSye293"
   },
   "source": [
    "Write a Python Program to Sort Words in Alphabetic Order?"
   ]
  },
  {
   "cell_type": "code",
   "execution_count": 4,
   "metadata": {
    "id": "lXVllYJre5ZZ"
   },
   "outputs": [
    {
     "name": "stdout",
     "output_type": "stream",
     "text": [
      "The sorted words are:\n",
      "alphabetic\n",
      "in\n",
      "order\n",
      "program\n",
      "python\n",
      "sort\n",
      "to\n",
      "words\n"
     ]
    }
   ],
   "source": [
    "S = 'Python Program to Sort Words in Alphabetic Order'\n",
    "s = S.lower()\n",
    "a = s.split()  \n",
    "a.sort()\n",
    "print('The sorted words are:')\n",
    "for i in a:\n",
    "    print(i)"
   ]
  },
  {
   "cell_type": "markdown",
   "metadata": {
    "id": "qpDN68HJe7gm"
   },
   "source": [
    "Write a Python Program to Remove Punctuation From a String?"
   ]
  },
  {
   "cell_type": "code",
   "execution_count": 5,
   "metadata": {
    "id": "DWxJXzD_e8GX"
   },
   "outputs": [
    {
     "name": "stdout",
     "output_type": "stream",
     "text": [
      " Punctuation in the string\n"
     ]
    }
   ],
   "source": [
    "punctuations = '''!()-[]{};:'\"\\,<>./?@#$%^&*_~'''\n",
    "a = ' Punctuation&@! in the s@tring!!!'\n",
    "newstring = ''\n",
    "for i in a:\n",
    "    if i not in punctuations:\n",
    "        newstring = newstring + i\n",
    "print(newstring)"
   ]
  },
  {
   "cell_type": "code",
   "execution_count": null,
   "metadata": {},
   "outputs": [],
   "source": []
  }
 ],
 "metadata": {
  "colab": {
   "provenance": []
  },
  "kernelspec": {
   "display_name": "Python 3 (ipykernel)",
   "language": "python",
   "name": "python3"
  },
  "language_info": {
   "codemirror_mode": {
    "name": "ipython",
    "version": 3
   },
   "file_extension": ".py",
   "mimetype": "text/x-python",
   "name": "python",
   "nbconvert_exporter": "python",
   "pygments_lexer": "ipython3",
   "version": "3.9.12"
  }
 },
 "nbformat": 4,
 "nbformat_minor": 1
}
