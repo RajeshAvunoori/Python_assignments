{
  "nbformat": 4,
  "nbformat_minor": 0,
  "metadata": {
    "colab": {
      "provenance": []
    },
    "kernelspec": {
      "name": "python3",
      "display_name": "Python 3"
    },
    "language_info": {
      "name": "python"
    }
  },
  "cells": [
    {
      "cell_type": "markdown",
      "source": [
        "1. Write a Python program to print &quot;Hello Python&quot?\n",
        "\n"
      ],
      "metadata": {
        "id": "YIMsv4E3cgx7"
      }
    },
    {
      "cell_type": "code",
      "execution_count": 1,
      "metadata": {
        "colab": {
          "base_uri": "https://localhost:8080/"
        },
        "id": "hCCZuOOrcbEe",
        "outputId": "3e9ee316-c8d3-432d-ca6f-53773a73fcf2"
      },
      "outputs": [
        {
          "output_type": "stream",
          "name": "stdout",
          "text": [
            "Hello Python\n"
          ]
        }
      ],
      "source": [
        "print('Hello Python')"
      ]
    },
    {
      "cell_type": "markdown",
      "source": [
        "2. Write a Python program to do arithmetical operations addition and division.?"
      ],
      "metadata": {
        "id": "07tKsEutc_IE"
      }
    },
    {
      "cell_type": "code",
      "source": [
        "a = 2\n",
        "b = 3\n",
        "print(a+b,a/b)"
      ],
      "metadata": {
        "colab": {
          "base_uri": "https://localhost:8080/"
        },
        "id": "2t2tU_yGc0cM",
        "outputId": "d5b57794-3a8c-4b95-948c-f2255c75a932"
      },
      "execution_count": 2,
      "outputs": [
        {
          "output_type": "stream",
          "name": "stdout",
          "text": [
            "5 0.6666666666666666\n"
          ]
        }
      ]
    },
    {
      "cell_type": "markdown",
      "source": [
        "3. Write a Python program to find the area of a triangle?"
      ],
      "metadata": {
        "id": "yspQBBUYdPWj"
      }
    },
    {
      "cell_type": "code",
      "source": [
        "a = float(input('one side of traingle :'))\n",
        "b = float(input('second side of traingle :'))\n",
        "c = float(input('third side of traingle :'))\n",
        "s = float((a+b+c)/2)\n",
        "area = s*((s-a)+(s-b)+(s-c))**0.5\n",
        "print(f'the area of trainge is {area}')"
      ],
      "metadata": {
        "colab": {
          "base_uri": "https://localhost:8080/"
        },
        "id": "Ju6tqzr7dOsT",
        "outputId": "dad56ab7-1615-4b15-e310-e9c34dc0c491"
      },
      "execution_count": 7,
      "outputs": [
        {
          "output_type": "stream",
          "name": "stdout",
          "text": [
            "one side of traingle :2\n",
            "second side of traingle :3\n",
            "third side of traingle :5\n",
            "the area of trainge is 11.180339887498949\n"
          ]
        }
      ]
    },
    {
      "cell_type": "markdown",
      "source": [
        "4. Write a Python program to swap two variables?"
      ],
      "metadata": {
        "id": "whgK-sdYciN_"
      }
    },
    {
      "cell_type": "code",
      "source": [
        "a = 2\n",
        "b = 4\n",
        "print(f'before swapping the numbers a = {a} and b = {b}')\n",
        "a,b = b,a\n",
        "print(f'after swapping the numbers a = {a} and b = {b}')"
      ],
      "metadata": {
        "colab": {
          "base_uri": "https://localhost:8080/"
        },
        "id": "JILsk5JLdM3F",
        "outputId": "a79cdc21-8d57-43d6-ba0f-e1b6a8ccfd12"
      },
      "execution_count": 1,
      "outputs": [
        {
          "output_type": "stream",
          "name": "stdout",
          "text": [
            "before swapping the numbers a = 2 and b = 4\n",
            "after swapping the numbers a = 4 and b = 2\n"
          ]
        }
      ]
    },
    {
      "cell_type": "markdown",
      "source": [
        "5. Write a Python program to generate a random number?"
      ],
      "metadata": {
        "id": "7QYFrc93dIOu"
      }
    },
    {
      "cell_type": "code",
      "source": [
        "import random\n",
        "print(random.randint(0,1000))"
      ],
      "metadata": {
        "colab": {
          "base_uri": "https://localhost:8080/"
        },
        "id": "Ie_oIvKjc7up",
        "outputId": "6c6144dd-50d8-4851-bb4a-537f447bf5a5"
      },
      "execution_count": 9,
      "outputs": [
        {
          "output_type": "stream",
          "name": "stdout",
          "text": [
            "282\n"
          ]
        }
      ]
    },
    {
      "cell_type": "code",
      "source": [],
      "metadata": {
        "id": "jArEGPVKddB3"
      },
      "execution_count": null,
      "outputs": []
    }
  ]
}