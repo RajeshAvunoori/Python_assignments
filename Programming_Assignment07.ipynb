{
  "nbformat": 4,
  "nbformat_minor": 0,
  "metadata": {
    "colab": {
      "provenance": []
    },
    "kernelspec": {
      "name": "python3",
      "display_name": "Python 3"
    },
    "language_info": {
      "name": "python"
    }
  },
  "cells": [
    {
      "cell_type": "markdown",
      "source": [
        "Write a Python Program to find sum of array?"
      ],
      "metadata": {
        "id": "knXl1_2k2-WO"
      }
    },
    {
      "cell_type": "code",
      "source": [
        "pip install numpy"
      ],
      "metadata": {
        "colab": {
          "base_uri": "https://localhost:8080/"
        },
        "id": "KsOXneA_3tnY",
        "outputId": "0e21aeb8-d314-4921-ada4-25f8e4b3d6ed"
      },
      "execution_count": 4,
      "outputs": [
        {
          "output_type": "stream",
          "name": "stdout",
          "text": [
            "Looking in indexes: https://pypi.org/simple, https://us-python.pkg.dev/colab-wheels/public/simple/\n",
            "Requirement already satisfied: numpy in /usr/local/lib/python3.7/dist-packages (1.21.6)\n"
          ]
        }
      ]
    },
    {
      "cell_type": "code",
      "execution_count": 5,
      "metadata": {
        "id": "aOUXZTVL24j4"
      },
      "outputs": [],
      "source": [
        "import numpy as np"
      ]
    },
    {
      "cell_type": "code",
      "source": [
        "a = np.arange(25)\n",
        "b = 0\n",
        "for i in a:\n",
        "  b = b + i\n",
        "print(b)"
      ],
      "metadata": {
        "colab": {
          "base_uri": "https://localhost:8080/"
        },
        "id": "J8QbQJYn4Ahh",
        "outputId": "1cd9d17a-7ad8-49db-d301-d32fdc6a3379"
      },
      "execution_count": 6,
      "outputs": [
        {
          "output_type": "stream",
          "name": "stdout",
          "text": [
            "300\n"
          ]
        }
      ]
    },
    {
      "cell_type": "markdown",
      "source": [
        "Write a Python Program to find largest element in an array?"
      ],
      "metadata": {
        "id": "rxvwGFA93HJo"
      }
    },
    {
      "cell_type": "code",
      "source": [
        "a = np.random.randint(1,500,25)\n",
        "print(a)\n",
        "high = 0\n",
        "for i in a:\n",
        "  if i>high:\n",
        "    high = i\n",
        "  else: \n",
        "    high \n",
        "print(high)"
      ],
      "metadata": {
        "colab": {
          "base_uri": "https://localhost:8080/"
        },
        "id": "Qm51_vi73ILV",
        "outputId": "975b4e14-c25f-4ab0-af43-2f1013b18155"
      },
      "execution_count": 7,
      "outputs": [
        {
          "output_type": "stream",
          "name": "stdout",
          "text": [
            "[331 192 122 173 291 195 380 466 366 333 241 158  40 203 433 417 315  71\n",
            " 270  45  40  92 320 485 413]\n",
            "485\n"
          ]
        }
      ]
    },
    {
      "cell_type": "markdown",
      "source": [
        "Write a Python Program for array rotation?"
      ],
      "metadata": {
        "id": "VhQ1Jhgh3IwX"
      }
    },
    {
      "cell_type": "code",
      "source": [
        "def rotateArray(a,d):\n",
        "    temp = []\n",
        "    n=len(a)\n",
        "    for i in range(d,n):\n",
        "        temp.append(a[i])\n",
        "    for i in range (0,d):\n",
        "        temp.append(a[i])\n",
        "    a=temp.copy()\n",
        "    return temp\n",
        " \n",
        "arr = np.random.randint(1,500,5)\n",
        "print(arr)\n",
        "print(\"Array after left rotation is: \", end=' ')\n",
        "print(rotateArray(arr, 2))"
      ],
      "metadata": {
        "colab": {
          "base_uri": "https://localhost:8080/"
        },
        "id": "4TPr-eBHL4hj",
        "outputId": "91aa1803-cef6-4370-b96f-240407df0d8c"
      },
      "execution_count": 162,
      "outputs": [
        {
          "output_type": "stream",
          "name": "stdout",
          "text": [
            "[225 455 151 417  98]\n",
            "Array after left rotation is:  [151, 417, 98, 225, 455]\n"
          ]
        }
      ]
    },
    {
      "cell_type": "markdown",
      "source": [
        "Write a Python Program to Split the array and add the first part to the end?"
      ],
      "metadata": {
        "id": "Tk-hwPlI3L9h"
      }
    },
    {
      "cell_type": "code",
      "source": [
        "def array_split(a,n,k):\n",
        "    for i in range(0, k): \n",
        "      print(i)\n",
        "      x = arr[0]\n",
        "      for j in range(0, n-1):\n",
        "        print(f' j= {j} and {a[j]}')\n",
        "        arr[j] = arr[j + 1]\n",
        "          \n",
        "      arr[n-1] = x\n",
        "          \n",
        "  \n",
        "arr = np.random.randint(1,25,5)\n",
        "print(arr)\n",
        "n = len(arr)\n",
        "position = 2\n",
        "  \n",
        "array_split(arr, n, position)\n",
        "  \n",
        "for i in range(0, n): \n",
        "    print(arr[i],end =' ')"
      ],
      "metadata": {
        "id": "SEa4V0mO3Oi5",
        "colab": {
          "base_uri": "https://localhost:8080/"
        },
        "outputId": "b038f180-719a-465d-dd45-cbe10fafa240"
      },
      "execution_count": 151,
      "outputs": [
        {
          "output_type": "stream",
          "name": "stdout",
          "text": [
            "[ 4 23  8 12 15]\n",
            "0\n",
            " j= 0 and 4\n",
            " j= 1 and 23\n",
            " j= 2 and 8\n",
            " j= 3 and 12\n",
            "1\n",
            " j= 0 and 23\n",
            " j= 1 and 8\n",
            " j= 2 and 12\n",
            " j= 3 and 15\n",
            "8 12 15 4 23 "
          ]
        }
      ]
    },
    {
      "cell_type": "code",
      "source": [
        "a = [1,3,4,5,6,8]\n",
        "temp = []\n",
        "print(type(temp))\n",
        "for i in a:\n",
        "  if i<4:\n",
        "    temp.append(i)\n",
        "print(temp)\n",
        "  \n",
        "\n"
      ],
      "metadata": {
        "colab": {
          "base_uri": "https://localhost:8080/"
        },
        "id": "dE3MVxp-9JxQ",
        "outputId": "c03ece71-7998-4119-9373-acde447786ae"
      },
      "execution_count": 114,
      "outputs": [
        {
          "output_type": "stream",
          "name": "stdout",
          "text": [
            "[1, 3]\n",
            "[1, 3, 4, 5, 6, 8]\n"
          ]
        }
      ]
    },
    {
      "cell_type": "markdown",
      "source": [
        "Write a Python Program to check if given array is Monotonic?"
      ],
      "metadata": {
        "id": "fmERqhBZ3PMZ"
      }
    },
    {
      "cell_type": "code",
      "source": [
        "def ismonotonic(a,n):\n",
        "  return ((all(a[i+1] >= a[i] for i in range(n-1))) or \n",
        "          (all(a[i+1] <= a[i] for i in range(n-1))))\n",
        "\n",
        "   "
      ],
      "metadata": {
        "id": "40W-BwqRg-M0"
      },
      "execution_count": 76,
      "outputs": []
    },
    {
      "cell_type": "code",
      "source": [
        "a = np.random.randint(1,50,10)\n",
        "print(a,len(a))\n",
        "ismonotonic(a,len(a))"
      ],
      "metadata": {
        "colab": {
          "base_uri": "https://localhost:8080/"
        },
        "id": "mKsAJr4BhrmZ",
        "outputId": "3b292439-0e52-47dd-cf4d-7550e58c1916"
      },
      "execution_count": 77,
      "outputs": [
        {
          "output_type": "stream",
          "name": "stdout",
          "text": [
            "[21 32 32  7 40  4  3  1  8 18] 10\n"
          ]
        },
        {
          "output_type": "execute_result",
          "data": {
            "text/plain": [
              "False"
            ]
          },
          "metadata": {},
          "execution_count": 77
        }
      ]
    },
    {
      "cell_type": "code",
      "source": [],
      "metadata": {
        "id": "6DaVVgx7dYEx"
      },
      "execution_count": 10,
      "outputs": []
    }
  ]
}